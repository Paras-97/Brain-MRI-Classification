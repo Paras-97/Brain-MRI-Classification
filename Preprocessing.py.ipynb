{
 "cells": [
  {
   "cell_type": "code",
   "execution_count": 1,
   "metadata": {},
   "outputs": [
    {
     "name": "stderr",
     "output_type": "stream",
     "text": [
      "c:\\users\\setcodestofire\\appdata\\local\\programs\\python\\python35\\lib\\site-packages\\dicom\\__init__.py:53: UserWarning: \n",
      "This code is using an older version of pydicom, which is no longer \n",
      "maintained as of Jan 2017.  You can access the new pydicom features and API \n",
      "by installing `pydicom` from PyPI.\n",
      "See 'Transitioning to pydicom 1.x' section at pydicom.readthedocs.org \n",
      "for more information.\n",
      "\n",
      "  warnings.warn(msg)\n"
     ]
    }
   ],
   "source": [
    "import os\n",
    "import nibabel as nib\n",
    "import numpy as np\n",
    "import matplotlib.pyplot as plt\n",
    "import cv2\n",
    "import math\n",
    "from tqdm import tqdm\n",
    "\n",
    "IMG_PX_SIZE = 50\n",
    "HM_SLICES = 16\n",
    "\n",
    "data_dir = 'E:/brain/FinalData'\n",
    "dataset  = os.listdir(data_dir)"
   ]
  },
  {
   "cell_type": "code",
   "execution_count": null,
   "metadata": {},
   "outputs": [],
   "source": [
    "'''def chunks(l, n):\n",
    "    for i in range(0, len(l), n):\n",
    "        yield l[i:i + n]\n",
    "\n",
    "def mean(l):\n",
    "    return sum(l) / len(l)'''\n",
    "\n",
    "def process_data(data):\n",
    "    \n",
    "    path = data_dir +'/'+ data\n",
    "    img3d = nib.load(path)\n",
    "    a = np.array(img3d.get_data())\n",
    "    \n",
    "    slice_img=[]\n",
    "    \n",
    "    if \"bold\" not in data:\n",
    "        label = [0,1]\n",
    "        for i in range(a.shape[2]):\n",
    "            slice_img.append(cv2.resize(np.array(a[:,:,i]),(IMG_PX_SIZE,IMG_PX_SIZE)))\n",
    "        for i in range(a.shape[0]):\n",
    "            slice_img.append(cv2.resize(np.array(a[i,:,:]),(IMG_PX_SIZE,IMG_PX_SIZE)))\n",
    "        for i in range(a.shape[1]):\n",
    "            slice_img.append(cv2.resize(np.array(a[:,i,:]),(IMG_PX_SIZE,IMG_PX_SIZE)))\n",
    "            \n",
    "    else:\n",
    "        label = [1,0]\n",
    "        for i in range(a.shape[2]):\n",
    "            slice_img.append(cv2.resize(np.array(a[:,:,i,0]),(IMG_PX_SIZE,IMG_PX_SIZE)))\n",
    "        for i in range(a.shape[0]):\n",
    "            slice_img.append(cv2.resize(np.array(a[i,:,:,0]),(IMG_PX_SIZE,IMG_PX_SIZE)))\n",
    "        for i in range(a.shape[1]):\n",
    "            slice_img.append(cv2.resize(np.array(a[:,i,:,0]),(IMG_PX_SIZE,IMG_PX_SIZE)))\n",
    "    \n",
    "    return np.array(slice_img),np.array(label)"
   ]
  },
  {
   "cell_type": "code",
   "execution_count": null,
   "metadata": {},
   "outputs": [],
   "source": [
    "much_data = []\n",
    "\n",
    "for data in tqdm(dataset):\n",
    "    img_data,label = process_data(data)\n",
    "    for j in range(img_data.shape[0]):\n",
    "        much_data.append([img_data[j],label])\n",
    "\n",
    "np.save('muchdata-{}-{}-{}-smalldata.npy'.format(IMG_PX_SIZE,IMG_PX_SIZE,HM_SLICES), much_data)"
   ]
  },
  {
   "cell_type": "code",
   "execution_count": null,
   "metadata": {},
   "outputs": [],
   "source": []
  }
 ],
 "metadata": {
  "kernelspec": {
   "display_name": "Python 3",
   "language": "python",
   "name": "python3"
  },
  "language_info": {
   "codemirror_mode": {
    "name": "ipython",
    "version": 3
   },
   "file_extension": ".py",
   "mimetype": "text/x-python",
   "name": "python",
   "nbconvert_exporter": "python",
   "pygments_lexer": "ipython3",
   "version": "3.5.2"
  }
 },
 "nbformat": 4,
 "nbformat_minor": 2
}
